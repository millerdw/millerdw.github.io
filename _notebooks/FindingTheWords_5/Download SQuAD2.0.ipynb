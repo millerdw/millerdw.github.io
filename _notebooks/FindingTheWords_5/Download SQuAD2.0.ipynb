{
 "cells": [
  {
   "cell_type": "code",
   "execution_count": 1,
   "metadata": {
    "colab": {},
    "colab_type": "code",
    "id": "1N-7sWeQ6edu"
   },
   "outputs": [
    {
     "ename": "ModuleNotFoundError",
     "evalue": "No module named 'torchtext'",
     "output_type": "error",
     "traceback": [
      "\u001b[1;31m---------------------------------------------------------------------------\u001b[0m",
      "\u001b[1;31mModuleNotFoundError\u001b[0m                       Traceback (most recent call last)",
      "\u001b[1;32m<ipython-input-1-82abfe94bec6>\u001b[0m in \u001b[0;36m<module>\u001b[1;34m\u001b[0m\n\u001b[0;32m      1\u001b[0m \u001b[1;32mimport\u001b[0m \u001b[0mtorch\u001b[0m\u001b[1;33m\u001b[0m\u001b[1;33m\u001b[0m\u001b[0m\n\u001b[1;32m----> 2\u001b[1;33m \u001b[1;32mimport\u001b[0m \u001b[0mtorchtext\u001b[0m\u001b[1;33m\u001b[0m\u001b[1;33m\u001b[0m\u001b[0m\n\u001b[0m\u001b[0;32m      3\u001b[0m \u001b[1;32mfrom\u001b[0m \u001b[0mtorchtext\u001b[0m \u001b[1;32mimport\u001b[0m \u001b[0mdata\u001b[0m\u001b[1;33m\u001b[0m\u001b[1;33m\u001b[0m\u001b[0m\n",
      "\u001b[1;31mModuleNotFoundError\u001b[0m: No module named 'torchtext'"
     ]
    }
   ],
   "source": [
    "import torch\n",
    "import torchtext\n",
    "from torchtext import data"
   ]
  },
  {
   "cell_type": "code",
   "execution_count": null,
   "metadata": {
    "colab": {},
    "colab_type": "code",
    "id": "XRjR6m_37ebZ"
   },
   "outputs": [],
   "source": [
    "import requests\n",
    "\n",
    "def download(url,filePath):\n",
    "    with open(filePath, 'wb') as f:\n",
    "        f.write(requests.get(url).content)\n"
   ]
  },
  {
   "cell_type": "code",
   "execution_count": null,
   "metadata": {
    "colab": {},
    "colab_type": "code",
    "id": "R6z4qnGK8DgG"
   },
   "outputs": [],
   "source": [
    "urlTrain = 'https://rajpurkar.github.io/SQuAD-explorer/dataset/train-v2.0.json'\n",
    "urlDev = 'https://rajpurkar.github.io/SQuAD-explorer/dataset/dev-v2.0.json'\n",
    "filePathTrain = 'SQuAD_train_v2.0.json'\n",
    "filePathDev = 'SQuAD_dev_v2.0.json'\n",
    "\n",
    "download(urlTrain,filePathTrain)\n",
    "download(urlDev,filePathDev)"
   ]
  },
  {
   "cell_type": "markdown",
   "metadata": {
    "colab_type": "text",
    "id": "RGdrn4pKAgXH"
   },
   "source": [
    "```\n",
    "{\n",
    "    \"version\": \"v2.0\", \n",
    "    \"data\": [\n",
    "        {\n",
    "            \"title\": \"Normans\", \n",
    "            \"paragraphs\": [\n",
    "                {\n",
    "                    \"qas\": [\n",
    "                        {   \n",
    "                            \"question\": \"In what country is Normandy located?\", \n",
    "                            \"id\": \"56ddde6b9a695914005b9628\", \n",
    "                            \"answers\": [\n",
    "                                {\"text\": \"France\", \"answer_start\": 159}, \n",
    "                                {\"text\": \"France\", \"answer_start\": 159}, \n",
    "                                {\"text\": \"France\", \"answer_start\": 159}, \n",
    "                                {\"text\": \"France\", \"answer_start\": 159}], \n",
    "                            \"is_impossible\": false\n",
    "                        }, \n",
    "                            ...\n",
    "                        { \n",
    "                            \"plausible_answers\": [{\"text\": \"9th century\", \"answer_start\": 309}], \n",
    "                            \"question\": \"When was the French version of the word Norman first recorded?\", \n",
    "                            \"id\": \"5ad3ab70604f3c001a3feb8a\", \n",
    "                            \"answers\": [], \n",
    "                            \"is_impossible\": true\n",
    "                        },\n",
    "                            ...\n",
    "                        ], \n",
    "                    \"context\": \"The English name \\\"Normans\\\" comes from the French words Normans/Normanz, plural of Normant, modern French normand, which is itself borrowed from Old Low Franconian Nortmann \\\"Northman\\\" or directly from Old Norse Nor\\u00f0ma\\u00f0r, Latinized variously as Nortmannus, Normannus, or Nordmannus (recorded in Medieval Latin, 9th century) to mean \\\"Norseman, Viking\\\".\"\n",
    "                }, \n",
    "                ...\n",
    "            ]\n",
    "        },\n",
    "        ...\n",
    "    ]\n",
    "}\n",
    "```\n",
    "\n"
   ]
  },
  {
   "cell_type": "code",
   "execution_count": null,
   "metadata": {
    "colab": {
     "base_uri": "https://localhost:8080/",
     "height": 1000
    },
    "colab_type": "code",
    "executionInfo": {
     "elapsed": 1425,
     "status": "ok",
     "timestamp": 1584010355349,
     "user": {
      "displayName": "David Miller",
      "photoUrl": "https://lh3.googleusercontent.com/a-/AOh14Gj1qZ8xuBiIVbfffLNlgsgzjOy97Y5rgVjZo7Kp2A=s64",
      "userId": "13456558196145845049"
     },
     "user_tz": 0
    },
    "id": "L7aiK33WGgir",
    "outputId": "1799ea5e-f7a8-4c4a-8728-d58a1b9c85fd"
   },
   "outputs": [
    {
     "name": "stdout",
     "output_type": "stream",
     "text": [
      "Title: Normans\n",
      "\tThe Normans (Norman: Nourmands; French: Normands; Latin: Normanni) were the people who in the 10th and 11th centuries gave their name to Normandy, a region in France. They were descended from Norse (\"Norman\" comes from \"Norseman\") raiders and pirates from Denmark, Iceland and Norway who, under their leader Rollo, agreed to swear fealty to King Charles III of West Francia. Through generations of assimilation and mixing with the native Frankish and Roman-Gaulish populations, their descendants would gradually merge with the Carolingian-based cultures of West Francia. The distinct cultural and ethnic identity of the Normans emerged initially in the first half of the 10th century, and it continued to evolve over the succeeding centuries.\n",
      "\t\tIn what country is Normandy located?\n",
      "\t\t\t[{'text': 'France', 'answer_start': 159}, {'text': 'France', 'answer_start': 159}, {'text': 'France', 'answer_start': 159}, {'text': 'France', 'answer_start': 159}]\n",
      "\t\tWhen were the Normans in Normandy?\n",
      "\t\t\t[{'text': '10th and 11th centuries', 'answer_start': 94}, {'text': 'in the 10th and 11th centuries', 'answer_start': 87}, {'text': '10th and 11th centuries', 'answer_start': 94}, {'text': '10th and 11th centuries', 'answer_start': 94}]\n",
      "Title: Computational_complexity_theory\n",
      "\tComputational complexity theory is a branch of the theory of computation in theoretical computer science that focuses on classifying computational problems according to their inherent difficulty, and relating those classes to each other. A computational problem is understood to be a task that is in principle amenable to being solved by a computer, which is equivalent to stating that the problem may be solved by mechanical application of mathematical steps, such as an algorithm.\n",
      "\t\tWhat branch of theoretical computer science deals with broadly classifying computational problems by difficulty and class of relationship?\n",
      "\t\t\t[{'text': 'Computational complexity theory', 'answer_start': 0}, {'text': 'Computational complexity theory', 'answer_start': 0}, {'text': 'Computational complexity theory', 'answer_start': 0}]\n",
      "\t\tBy what main attribute are computational problems classified utilizing computational complexity theory? \n",
      "\t\t\t[{'text': 'inherent difficulty', 'answer_start': 175}, {'text': 'their inherent difficulty', 'answer_start': 169}, {'text': 'inherent difficulty', 'answer_start': 175}]\n",
      "Title: Southern_California\n",
      "\tSouthern California, often abbreviated SoCal, is a geographic and cultural region that generally comprises California's southernmost 10 counties. The region is traditionally described as \"eight counties\", based on demographics and economic ties: Imperial, Los Angeles, Orange, Riverside, San Bernardino, San Diego, Santa Barbara, and Ventura. The more extensive 10-county definition, including Kern and San Luis Obispo counties, is also used based on historical political divisions. Southern California is a major economic center for the state of California and the United States.\n",
      "\t\tWhat is Southern California often abbreviated as?\n",
      "\t\t\t[{'text': 'SoCal', 'answer_start': 39}, {'text': 'SoCal', 'answer_start': 39}, {'text': 'SoCal', 'answer_start': 39}]\n",
      "\t\tDespite being traditionall described as \"eight counties\", how many counties does this region actually have?\n",
      "\t\t\t[{'text': '10 counties', 'answer_start': 133}, {'text': '10', 'answer_start': 133}, {'text': '10', 'answer_start': 133}]\n",
      "Title: Sky_(United_Kingdom)\n",
      "\tFormed in November 1990 by the equal merger of Sky Television and British Satellite Broadcasting, BSkyB became the UK's largest digital subscription television company. Following BSkyB's 2014 acquisition of Sky Italia and a majority 90.04% interest in Sky Deutschland in November 2014, its holding company British Sky Broadcasting Group plc changed its name to Sky plc. The United Kingdom operations also changed the company name from British Sky Broadcasting Limited to Sky UK Limited, still trading as Sky.\n",
      "\t\tWhat company was formed by the merger of Sky Television and British Satellite Broadcasting?\n",
      "\t\t\t[{'text': 'BSkyB', 'answer_start': 98}, {'text': 'BSkyB', 'answer_start': 98}, {'text': 'BSkyB', 'answer_start': 98}]\n",
      "\t\tWho is the UK's largest digital subscription television company?\n",
      "\t\t\t[{'text': 'BSkyB', 'answer_start': 98}, {'text': 'BSkyB', 'answer_start': 98}, {'text': 'BSkyB', 'answer_start': 98}]\n",
      "Title: Victoria_(Australia)\n",
      "\tThe economy of Victoria is highly diversified: service sectors including financial and property services, health, education, wholesale, retail, hospitality and manufacturing constitute the majority of employment. Victoria's total gross state product (GSP) is ranked second in Australia, although Victoria is ranked fourth in terms of GSP per capita because of its limited mining activity. Culturally, Melbourne is home to a number of museums, art galleries and theatres and is also described as the \"sporting capital of Australia\". The Melbourne Cricket Ground is the largest stadium in Australia, and the host of the 1956 Summer Olympics and the 2006 Commonwealth Games. The ground is also considered the \"spiritual home\" of Australian cricket and Australian rules football, and hosts the grand final of the Australian Football League (AFL) each year, usually drawing crowds of over 95,000 people. Victoria includes eight public universities, with the oldest, the University of Melbourne, having been founded in 1853.\n",
      "\t\tWhat kind of economy does Victoria have?\n",
      "\t\t\t[{'text': 'diversified', 'answer_start': 34}, {'text': 'highly diversified', 'answer_start': 27}, {'text': 'highly diversified', 'answer_start': 27}]\n",
      "\t\tWhere according to gross state product does Victoria rank in Australia?\n",
      "\t\t\t[{'text': 'second', 'answer_start': 266}, {'text': 'second', 'answer_start': 266}, {'text': 'second', 'answer_start': 266}]\n",
      "Title: Huguenot\n",
      "\tHuguenot numbers peaked near an estimated two million by 1562, concentrated mainly in the southern and central parts of France, about one-eighth the number of French Catholics. As Huguenots gained influence and more openly displayed their faith, Catholic hostility grew, in spite of increasingly liberal political concessions and edicts of toleration from the French crown. A series of religious conflicts followed, known as the Wars of Religion, fought intermittently from 1562 to 1598. The wars finally ended with the granting of the Edict of Nantes, which granted the Huguenots substantial religious, political and military autonomy.\n",
      "\t\tWhere was France's Huguenot population largely centered?\n",
      "\t\t\t[{'text': 'the southern and central parts of France', 'answer_start': 86}, {'text': 'southern and central parts of France,', 'answer_start': 90}, {'text': 'about one-eighth', 'answer_start': 128}]\n",
      "\t\tWhat was the proportion of Huguenots to Catholics at their peak?\n",
      "\t\t\t[{'text': 'about one-eighth the number', 'answer_start': 128}, {'text': 'about one-eighth', 'answer_start': 128}, {'text': 'about one-eighth', 'answer_start': 128}]\n",
      "Title: Steam_engine\n",
      "\tSteam engines are external combustion engines, where the working fluid is separate from the combustion products. Non-combustion heat sources such as solar power, nuclear power or geothermal energy may be used. The ideal thermodynamic cycle used to analyze this process is called the Rankine cycle. In the cycle, water is heated and transforms into steam within a boiler operating at a high pressure. When expanded through pistons or turbines, mechanical work is done. The reduced-pressure steam is then condensed and pumped back into the boiler.\n",
      "\t\tAlong with geothermal and nuclear, what is a notable non-combustion heat source?\n",
      "\t\t\t[{'text': 'solar', 'answer_start': 149}, {'text': 'solar power', 'answer_start': 149}, {'text': 'solar power, nuclear power or geothermal energy', 'answer_start': 149}, {'text': 'solar', 'answer_start': 149}]\n",
      "\t\tWhat ideal thermodynamic cycle analyzes the process by which steam engines work?\n",
      "\t\t\t[{'text': 'Rankine', 'answer_start': 283}, {'text': 'Rankine cycle', 'answer_start': 283}, {'text': 'Rankine cycle', 'answer_start': 283}, {'text': 'Rankine cycle', 'answer_start': 283}]\n",
      "Title: Oxygen\n",
      "\tOxygen is a chemical element with symbol O and atomic number 8. It is a member of the chalcogen group on the periodic table and is a highly reactive nonmetal and oxidizing agent that readily forms compounds (notably oxides) with most elements. By mass, oxygen is the third-most abundant element in the universe, after hydrogen and helium. At standard temperature and pressure, two atoms of the element bind to form dioxygen, a colorless and odorless diatomic gas with the formula O\n",
      "2. Diatomic oxygen gas constitutes 20.8% of the Earth's atmosphere. However, monitoring of atmospheric oxygen levels show a global downward trend, because of fossil-fuel burning. Oxygen is the most abundant element by mass in the Earth's crust as part of oxide compounds such as silicon dioxide, making up almost half of the crust's mass.\n",
      "\t\tThe atomic number of the periodic table for oxygen?\n",
      "\t\t\t[{'text': '8', 'answer_start': 61}, {'text': '8', 'answer_start': 61}, {'text': '8', 'answer_start': 61}, {'text': '8', 'answer_start': 61}, {'text': '8', 'answer_start': 61}]\n",
      "\t\tWhat is the second most abundant element?\n",
      "\t\t\t[{'text': 'helium', 'answer_start': 331}, {'text': 'helium', 'answer_start': 331}, {'text': 'helium', 'answer_start': 331}, {'text': 'helium', 'answer_start': 331}, {'text': 'helium', 'answer_start': 331}]\n",
      "Title: 1973_oil_crisis\n",
      "\tThe 1973 oil crisis began in October 1973 when the members of the Organization of Arab Petroleum Exporting Countries (OAPEC, consisting of the Arab members of OPEC plus Egypt and Syria) proclaimed an oil embargo. By the end of the embargo in March 1974, the price of oil had risen from US$3 per barrel to nearly $12 globally; US prices were significantly higher. The embargo caused an oil crisis, or \"shock\", with many short- and long-term effects on global politics and the global economy. It was later called the \"first oil shock\", followed by the 1979 oil crisis, termed the \"second oil shock.\"\n",
      "\t\tWhen did the 1973 oil crisis begin?\n",
      "\t\t\t[{'text': 'October 1973', 'answer_start': 29}, {'text': 'October 1973', 'answer_start': 29}, {'text': 'October 1973', 'answer_start': 29}, {'text': 'October', 'answer_start': 29}, {'text': '1973', 'answer_start': 37}]\n",
      "\t\tWhat was the price of oil in March of 1974?\n",
      "\t\t\t[{'text': 'nearly $12', 'answer_start': 305}, {'text': '$12', 'answer_start': 312}, {'text': '$12', 'answer_start': 312}, {'text': '$12', 'answer_start': 312}, {'text': '$12', 'answer_start': 312}]\n",
      "Title: European_Union_law\n",
      "\tEuropean Union law is a body of treaties and legislation, such as Regulations and Directives, which have direct effect or indirect effect on the laws of European Union member states. The three sources of European Union law are primary law, secondary law and supplementary law. The main sources of primary law are the Treaties establishing the European Union. Secondary sources include regulations and directives which are based on the Treaties. The legislature of the European Union is principally composed of the European Parliament and the Council of the European Union, which under the Treaties may establish secondary law to pursue the objective set out in the Treaties.\n",
      "\t\tWhat is European Union Law?\n",
      "\t\t\t[{'text': 'a body of treaties and legislation', 'answer_start': 22}, {'text': 'a body of treaties and legislation, such as Regulations and Directives, which have direct effect or indirect effect on the laws of European Union member states', 'answer_start': 22}, {'text': 'a body of treaties and legislation, such as Regulations and Directives', 'answer_start': 22}, {'text': 'a body of treaties and legislation, such as Regulations and Directives', 'answer_start': 22}]\n",
      "\t\tWhat are the main sources of primary law?\n",
      "\t\t\t[{'text': 'Treaties establishing the European Union', 'answer_start': 317}, {'text': 'the Treaties establishing the European Union', 'answer_start': 313}, {'text': 'primary law, secondary law and supplementary law', 'answer_start': 227}, {'text': 'the Treaties establishing the European Union', 'answer_start': 313}]\n",
      "Title: Amazon_rainforest\n",
      "\tThe Amazon rainforest (Portuguese: Floresta Amazônica or Amazônia; Spanish: Selva Amazónica, Amazonía or usually Amazonia; French: Forêt amazonienne; Dutch: Amazoneregenwoud), also known in English as Amazonia or the Amazon Jungle, is a moist broadleaf forest that covers most of the Amazon basin of South America. This basin encompasses 7,000,000 square kilometres (2,700,000 sq mi), of which 5,500,000 square kilometres (2,100,000 sq mi) are covered by the rainforest. This region includes territory belonging to nine nations. The majority of the forest is contained within Brazil, with 60% of the rainforest, followed by Peru with 13%, Colombia with 10%, and with minor amounts in Venezuela, Ecuador, Bolivia, Guyana, Suriname and French Guiana. States or departments in four nations contain \"Amazonas\" in their names. The Amazon represents over half of the planet's remaining rainforests, and comprises the largest and most biodiverse tract of tropical rainforest in the world, with an estimated 390 billion individual trees divided into 16,000 species.\n",
      "\t\tWhich name is also used to describe the Amazon rainforest in English?\n",
      "\t\t\t[{'text': 'also known in English as Amazonia or the Amazon Jungle,', 'answer_start': 176}, {'text': 'Amazonia or the Amazon Jungle', 'answer_start': 201}, {'text': 'Amazonia', 'answer_start': 201}]\n",
      "\t\tHow many square kilometers of rainforest is covered in the basin?\n",
      "\t\t\t[{'text': '5,500,000 square kilometres (2,100,000 sq mi) are covered by the rainforest.', 'answer_start': 394}, {'text': '5,500,000', 'answer_start': 394}, {'text': '5,500,000', 'answer_start': 394}]\n",
      "Title: Ctenophora\n",
      "\tCtenophora (/tᵻˈnɒfərə/; singular ctenophore, /ˈtɛnəfɔːr/ or /ˈtiːnəfɔːr/; from the Greek κτείς kteis 'comb' and φέρω pherō 'carry'; commonly known as comb jellies) is a phylum of animals that live in marine waters worldwide. Their most distinctive feature is the ‘combs’ – groups of cilia which they use for swimming – they are the largest animals that swim by means of cilia. Adults of various species range from a few millimeters to 1.5 m (4 ft 11 in) in size. Like cnidarians, their bodies consist of a mass of jelly, with one layer of cells on the outside and another lining the internal cavity. In ctenophores, these layers are two cells deep, while those in cnidarians are only one cell deep. Some authors combined ctenophores and cnidarians in one phylum, Coelenterata, as both groups rely on water flow through the body cavity for both digestion and respiration. Increasing awareness of the differences persuaded more recent authors to classify them as separate phyla.\n",
      "\t\tWhat is a ctenophora?\n",
      "\t\t\t[{'text': 'phylum of animals that live in marine waters', 'answer_start': 170}, {'text': 'a phylum of animals', 'answer_start': 168}, {'text': 'comb jellies', 'answer_start': 151}]\n",
      "\t\tWhat does the ctenophora use to swim?\n",
      "\t\t\t[{'text': '‘combs’ – groups of cilia', 'answer_start': 264}, {'text': 'cilia', 'answer_start': 284}, {'text': 'cilia', 'answer_start': 371}]\n",
      "Title: Fresno,_California\n",
      "\tFresno (/ˈfrɛznoʊ/ FREZ-noh), the county seat of Fresno County, is a city in the U.S. state of California. As of 2015, the city's population was 520,159, making it the fifth-largest city in California, the largest inland city in California and the 34th-largest in the nation. Fresno is in the center of the San Joaquin Valley and is the largest city in the Central Valley, which contains the San Joaquin Valley. It is approximately 220 miles (350 km) northwest of Los Angeles, 170 miles (270 km) south of the state capital, Sacramento, or 185 miles (300 km) south of San Francisco. The name Fresno means \"ash tree\" in Spanish, and an ash leaf is featured on the city's flag.\n",
      "\t\tWhich city is the fifth-largest city in California?\n",
      "\t\t\t[{'text': 'Fresno', 'answer_start': 0}, {'text': 'Fresno', 'answer_start': 0}, {'text': 'Fresno', 'answer_start': 0}]\n",
      "\t\tHow far is Fresno from Los Angeles?\n",
      "\t\t\t[{'text': '220 miles (350 km)', 'answer_start': 432}, {'text': '220 miles (350 km)', 'answer_start': 432}, {'text': '220 miles (350 km)', 'answer_start': 432}]\n",
      "Title: Packet_switching\n",
      "\tStarting in the late 1950s, American computer scientist Paul Baran developed the concept Distributed Adaptive Message Block Switching with the goal to provide a fault-tolerant, efficient routing method for telecommunication messages as part of a research program at the RAND Corporation, funded by the US Department of Defense. This concept contrasted and contradicted the theretofore established principles of pre-allocation of network bandwidth, largely fortified by the development of telecommunications in the Bell System. The new concept found little resonance among network implementers until the independent work of Donald Davies at the National Physical Laboratory (United Kingdom) (NPL) in the late 1960s. Davies is credited with coining the modern name packet switching and inspiring numerous packet switching networks in Europe in the decade following, including the incorporation of the concept in the early ARPANET in the United States.\n",
      "\t\tWhat did Paul Baran develop \n",
      "\t\t\t[{'text': 'Paul Baran developed the concept Distributed Adaptive Message Block Switching', 'answer_start': 56}, {'text': 'the concept Distributed Adaptive Message Block Switching', 'answer_start': 77}, {'text': 'Distributed Adaptive Message Block Switching', 'answer_start': 89}]\n",
      "\t\tWhat did Distributed Adaptive Message Block Switching do\n",
      "\t\t\t[{'text': 'provide a fault-tolerant, efficient routing method for telecommunication messages', 'answer_start': 151}, {'text': 'provide a fault-tolerant, efficient routing method for telecommunication messages', 'answer_start': 151}, {'text': 'fault-tolerant, efficient routing method', 'answer_start': 161}]\n",
      "Title: Black_Death\n",
      "\tThe Black Death is thought to have originated in the arid plains of Central Asia, where it then travelled along the Silk Road, reaching Crimea by 1343. From there, it was most likely carried by Oriental rat fleas living on the black rats that were regular passengers on merchant ships. Spreading throughout the Mediterranean and Europe, the Black Death is estimated to have killed 30–60% of Europe's total population. In total, the plague reduced the world population from an estimated 450 million down to 350–375 million in the 14th century. The world population as a whole did not recover to pre-plague levels until the 17th century. The plague recurred occasionally in Europe until the 19th century.\n",
      "\t\tWhere did the black death originate?\n",
      "\t\t\t[{'text': 'the arid plains of Central Asia', 'answer_start': 49}, {'text': 'Central Asia', 'answer_start': 68}, {'text': 'Central Asia', 'answer_start': 68}]\n",
      "\t\tHow did the black death make it to the Mediterranean and Europe?\n",
      "\t\t\t[{'text': 'merchant ships.', 'answer_start': 270}, {'text': 'merchant ships', 'answer_start': 270}, {'text': 'Silk Road', 'answer_start': 116}]\n",
      "Title: Geology\n",
      "\tThere are three major types of rock: igneous, sedimentary, and metamorphic. The rock cycle is an important concept in geology which illustrates the relationships between these three types of rock, and magma. When a rock crystallizes from melt (magma and/or lava), it is an igneous rock. This rock can be weathered and eroded, and then redeposited and lithified into a sedimentary rock, or be turned into a metamorphic rock due to heat and pressure that change the mineral content of the rock which gives it a characteristic fabric. The sedimentary rock can then be subsequently turned into a metamorphic rock due to heat and pressure and is then weathered, eroded, deposited, and lithified, ultimately becoming a sedimentary rock. Sedimentary rock may also be re-eroded and redeposited, and metamorphic rock may also undergo additional metamorphism. All three types of rocks may be re-melted; when this happens, a new magma is formed, from which an igneous rock may once again crystallize.\n",
      "\t\tAn igneous rock is a rock that crystallizes from what?\n",
      "\t\t\t[{'text': 'melt (magma and/or lava)', 'answer_start': 238}, {'text': 'melt', 'answer_start': 238}, {'text': 'rock crystallizes from melt (magma and/or lava)', 'answer_start': 215}, {'text': 'melt (magma and/or lava)', 'answer_start': 238}]\n",
      "\t\tSedimentary rock can be turned into which of the three types of rock?\n",
      "\t\t\t[{'text': 'metamorphic rock', 'answer_start': 592}, {'text': 'metamorphic', 'answer_start': 592}, {'text': 'metamorphic rock', 'answer_start': 592}, {'text': 'metamorphic', 'answer_start': 592}]\n",
      "Title: Pharmacy\n",
      "\tThe word pharmacy is derived from its root word pharma which was a term used since the 15th–17th centuries. However, the original Greek roots from pharmakos imply sorcery or even poison. In addition to pharma responsibilities, the pharma offered general medical advice and a range of services that are now performed solely by other specialist practitioners, such as surgery and midwifery. The pharma (as it was referred to) often operated through a retail shop which, in addition to ingredients for medicines, sold tobacco and patent medicines. Often the place that did this was called an apothecary and several languages have this as the dominant term, though their practices are more akin to a modern pharmacy, in English the term apothecary would today be seen as outdated or only approproriate if herbal remedies were on offer to a large extent. The pharmas also used many other herbs not listed. The Greek word Pharmakeia (Greek: φαρμακεία) derives from pharmakon (φάρμακον), meaning \"drug\", \"medicine\" (or \"poison\").[n 1]\n",
      "\t\tWhat word is the word pharmacy taken from?\n",
      "\t\t\t[{'text': 'its root word pharma', 'answer_start': 34}, {'text': 'pharma', 'answer_start': 48}, {'text': 'pharma', 'answer_start': 48}, {'text': 'pharma', 'answer_start': 48}]\n",
      "\t\tWhat goods were sold in a pharma?\n",
      "\t\t\t[{'text': 'ingredients for medicines, sold tobacco and patent medicines', 'answer_start': 483}, {'text': 'ingredients for medicines, sold tobacco and patent medicines', 'answer_start': 483}, {'text': 'ingredients for medicines, sold tobacco and patent medicines', 'answer_start': 483}, {'text': 'medicines', 'answer_start': 499}]\n",
      "Title: Civil_disobedience\n",
      "\tOne of its earliest massive implementations was brought about by Egyptians against the British occupation in the 1919 Revolution. Civil disobedience is one of the many ways people have rebelled against what they deem to be unfair laws. It has been used in many nonviolent resistance movements in India (Gandhi's campaigns for independence from the British Empire), in Czechoslovakia's Velvet Revolution and in East Germany to oust their communist governments, In South Africa in the fight against apartheid, in the American Civil Rights Movement, in the Singing Revolution to bring independence to the Baltic countries from the Soviet Union, recently with the 2003 Rose Revolution in Georgia and the 2004 Orange Revolution in Ukraine, among other various movements worldwide.\n",
      "\t\tWhat is it called when people in society rebel against laws they think are unfair?\n",
      "\t\t\t[{'text': 'Civil disobedience', 'answer_start': 130}, {'text': 'Civil disobedience', 'answer_start': 130}, {'text': 'Civil disobedience', 'answer_start': 130}, {'text': 'Civil disobedience', 'answer_start': 130}, {'text': 'Civil disobedience', 'answer_start': 130}]\n",
      "\t\tWhat is an example of major civil disobedience in South Africa?\n",
      "\t\t\t[{'text': 'apartheid', 'answer_start': 497}, {'text': 'fight against apartheid', 'answer_start': 483}, {'text': 'the fight against apartheid', 'answer_start': 479}, {'text': 'the fight against apartheid', 'answer_start': 479}, {'text': 'Singing Revolution to bring independence to the Baltic countries', 'answer_start': 554}]\n",
      "Title: Construction\n",
      "\tConstruction is the process of constructing a building or infrastructure. Construction differs from manufacturing in that manufacturing typically involves mass production of similar items without a designated purchaser, while construction typically takes place on location for a known client. Construction as an industry comprises six to nine percent of the gross domestic product of developed countries. Construction starts with planning,[citation needed] design, and financing and continues until the project is built and ready for use.\n",
      "\t\tWhat is the process of constructing a building or infrastructure?\n",
      "\t\t\t[{'text': 'Construction', 'answer_start': 0}, {'text': 'Construction', 'answer_start': 0}, {'text': 'Construction', 'answer_start': 0}]\n",
      "\t\tWhat typically involves mass production of similar items without a designated purchaser?\n",
      "\t\t\t[{'text': 'manufacturing', 'answer_start': 122}, {'text': 'manufacturing', 'answer_start': 100}, {'text': 'manufacturing', 'answer_start': 122}]\n",
      "Title: Private_school\n",
      "\tPrivate schools, also known as independent schools, non-governmental, or nonstate schools, are not administered by local, state or national governments; thus, they retain the right to select their students and are funded in whole or in part by charging their students tuition, rather than relying on mandatory taxation through public (government) funding; at some private schools students may be able to get a scholarship, which makes the cost cheaper, depending on a talent the student may have (e.g. sport scholarship, art scholarship, academic scholarship), financial need, or tax credit scholarships that might be available.\n",
      "\t\tAlong with non-governmental and nonstate schools, what is another name for private schools?\n",
      "\t\t\t[{'text': 'independent', 'answer_start': 31}, {'text': 'independent schools', 'answer_start': 31}, {'text': 'independent schools', 'answer_start': 31}]\n",
      "\t\tAlong with sport and art, what is a type of talent scholarship?\n",
      "\t\t\t[{'text': 'academic', 'answer_start': 538}, {'text': 'academic', 'answer_start': 538}, {'text': 'academic', 'answer_start': 538}]\n",
      "Title: Harvard_University\n",
      "\tEstablished originally by the Massachusetts legislature and soon thereafter named for John Harvard (its first benefactor), Harvard is the United States' oldest institution of higher learning, and the Harvard Corporation (formally, the President and Fellows of Harvard College) is its first chartered corporation. Although never formally affiliated with any denomination, the early College primarily trained Congregationalist and Unitarian clergy. Its curriculum and student body were gradually secularized during the 18th century, and by the 19th century Harvard had emerged as the central cultural establishment among Boston elites. Following the American Civil War, President Charles W. Eliot's long tenure (1869–1909) transformed the college and affiliated professional schools into a modern research university; Harvard was a founding member of the Association of American Universities in 1900. James Bryant Conant led the university through the Great Depression and World War II and began to reform the curriculum and liberalize admissions after the war. The undergraduate college became coeducational after its 1977 merger with Radcliffe College.\n",
      "\t\tWhat individual is the school named after?\n",
      "\t\t\t[{'text': 'John Harvard', 'answer_start': 86}, {'text': 'John Harvard', 'answer_start': 86}, {'text': 'John Harvard', 'answer_start': 86}]\n",
      "\t\tWhen did the undergraduate program become coeducational?\n",
      "\t\t\t[{'text': '1977', 'answer_start': 1117}, {'text': '1977', 'answer_start': 1117}, {'text': '1977', 'answer_start': 1117}]\n",
      "Title: Jacksonville,_Florida\n",
      "\tJacksonville is the largest city by population in the U.S. state of Florida, and the largest city by area in the contiguous United States. It is the county seat of Duval County, with which the city government consolidated in 1968. Consolidation gave Jacksonville its great size and placed most of its metropolitan population within the city limits; with an estimated population of 853,382 in 2014, it is the most populous city proper in Florida and the Southeast, and the 12th most populous in the United States. Jacksonville is the principal city in the Jacksonville metropolitan area, with a population of 1,345,596 in 2010.\n",
      "\t\tWhich Florida city has the biggest population?\n",
      "\t\t\t[{'text': 'Jacksonville', 'answer_start': 0}, {'text': 'Jacksonville', 'answer_start': 0}, {'text': 'Jacksonville', 'answer_start': 0}]\n",
      "\t\tWhat was the population Jacksonville city as of 2010?\n",
      "\t\t\t[{'text': '1,345,596', 'answer_start': 608}, {'text': '1,345,596', 'answer_start': 608}, {'text': '1,345,596', 'answer_start': 608}]\n",
      "Title: Economic_inequality\n",
      "\tA study by the World Institute for Development Economics Research at United Nations University reports that the richest 1% of adults alone owned 40% of global assets in the year 2000. The three richest people in the world possess more financial assets than the lowest 48 nations combined. The combined wealth of the \"10 million dollar millionaires\" grew to nearly $41 trillion in 2008. A January 2014 report by Oxfam claims that the 85 wealthiest individuals in the world have a combined wealth equal to that of the bottom 50% of the world's population, or about 3.5 billion people. According to a Los Angeles Times analysis of the report, the wealthiest 1% owns 46% of the world's wealth; the 85 richest people, a small part of the wealthiest 1%, own about 0.7% of the human population's wealth, which is the same as the bottom half of the population. More recently, in January 2015, Oxfam reported that the wealthiest 1 percent will own more than half of the global wealth by 2016. An October 2014 study by Credit Suisse also claims that the top 1% now own nearly half of the world's wealth and that the accelerating disparity could trigger a recession. In October 2015, Credit Suisse published a study which shows global inequality continues to increase, and that half of the world's wealth is now in the hands of those in the top percentile, whose assets each exceed $759,900. A 2016 report by Oxfam claims that the 62 wealthiest individuals own as much wealth as the poorer half of the global population combined. Oxfam's claims have however been questioned on the basis of the methodology used: by using net wealth (adding up assets and subtracting debts), the Oxfam report, for instance, finds that there are more poor people in the United States and Western Europe than in China (due to a greater tendency to take on debts).[unreliable source?][unreliable source?] Anthony Shorrocks, the lead author of the Credit Suisse report which is one of the sources of Oxfam's data, considers the criticism about debt to be a \"silly argument\" and \"a non-issue . . . a diversion.\"\n",
      "\t\tWhat percentage of global assets does the richest 1% of people have?\n",
      "\t\t\t[{'text': '40%', 'answer_start': 145}, {'text': '40%', 'answer_start': 145}, {'text': '40%', 'answer_start': 145}, {'text': '40', 'answer_start': 145}]\n",
      "\t\tAccording to Oxfam, the 85 richest people have wealth equal to how many average people?\n",
      "\t\t\t[{'text': 'about 3.5 billion people', 'answer_start': 557}, {'text': '3.5 billion', 'answer_start': 563}, {'text': '50%', 'answer_start': 523}, {'text': '3.5 billion', 'answer_start': 563}]\n",
      "Title: University_of_Chicago\n",
      "\tThe University of Chicago (UChicago, Chicago, or U of C) is a private research university in Chicago. The university, established in 1890, consists of The College, various graduate programs, interdisciplinary committees organized into four academic research divisions and seven professional schools. Beyond the arts and sciences, Chicago is also well known for its professional schools, which include the Pritzker School of Medicine, the University of Chicago Booth School of Business, the Law School, the School of Social Service Administration, the Harris School of Public Policy Studies, the Graham School of Continuing Liberal and Professional Studies and the Divinity School. The university currently enrolls approximately 5,000 students in the College and around 15,000 students overall.\n",
      "\t\tWhat kind of university is the University of Chicago?\n",
      "\t\t\t[{'text': 'a private research university', 'answer_start': 60}, {'text': 'private research', 'answer_start': 62}, {'text': 'private research university', 'answer_start': 62}, {'text': 'private research university', 'answer_start': 62}]\n",
      "\t\tWhen was the University of Chicago established?\n",
      "\t\t\t[{'text': '1890', 'answer_start': 133}, {'text': '1890', 'answer_start': 133}, {'text': '1890', 'answer_start': 133}, {'text': '1890', 'answer_start': 133}]\n",
      "Title: Yuan_dynasty\n",
      "\tThe Yuan dynasty (Chinese: 元朝; pinyin: Yuán Cháo), officially the Great Yuan (Chinese: 大元; pinyin: Dà Yuán; Mongolian: Yehe Yuan Ulus[a]), was the empire or ruling dynasty of China established by Kublai Khan, leader of the Mongolian Borjigin clan. Although the Mongols had ruled territories including today's North China for decades, it was not until 1271 that Kublai Khan officially proclaimed the dynasty in the traditional Chinese style. His realm was, by this point, isolated from the other khanates and controlled most of present-day China and its surrounding areas, including modern Mongolia and Korea. It was the first foreign dynasty to rule all of China and lasted until 1368, after which its Genghisid rulers returned to their Mongolian homeland and continued to rule the Northern Yuan dynasty. Some of the Mongolian Emperors of the Yuan mastered the Chinese language, while others only used their native language (i.e. Mongolian) and the 'Phags-pa script.\n",
      "\t\tWhat is the Chinese name for the Yuan dynasty?\n",
      "\t\t\t[{'text': 'Yuán Cháo', 'answer_start': 39}, {'text': 'Yuán Cháo', 'answer_start': 39}, {'text': '元朝', 'answer_start': 27}]\n",
      "\t\tWhat is the Yuan dynasty's official name?\n",
      "\t\t\t[{'text': 'the Great Yuan', 'answer_start': 62}, {'text': 'the Great Yuan', 'answer_start': 62}, {'text': 'the Great Yuan', 'answer_start': 62}]\n",
      "Title: Immune_system\n",
      "\tThe immune system is a system of many biological structures and processes within an organism that protects against disease. To function properly, an immune system must detect a wide variety of agents, known as pathogens, from viruses to parasitic worms, and distinguish them from the organism's own healthy tissue. In many species, the immune system can be classified into subsystems, such as the innate immune system versus the adaptive immune system, or humoral immunity versus cell-mediated immunity. In humans, the blood–brain barrier, blood–cerebrospinal fluid barrier, and similar fluid–brain barriers separate the peripheral immune system from the neuroimmune system which protects the brain.\n",
      "\t\tThe immune system protects organisms against what?\n",
      "\t\t\t[{'text': 'disease', 'answer_start': 115}, {'text': 'disease', 'answer_start': 115}, {'text': 'disease', 'answer_start': 115}, {'text': 'disease', 'answer_start': 115}]\n",
      "\t\tWhat are the agents the immune system detects known as?\n",
      "\t\t\t[{'text': 'pathogens', 'answer_start': 210}, {'text': 'pathogens', 'answer_start': 210}, {'text': 'pathogens', 'answer_start': 210}, {'text': 'pathogens', 'answer_start': 210}]\n",
      "Title: Intergovernmental_Panel_on_Climate_Change\n",
      "\tThe Intergovernmental Panel on Climate Change (IPCC) is a scientific intergovernmental body under the auspices of the United Nations, set up at the request of member governments. It was first established in 1988 by two United Nations organizations, the World Meteorological Organization (WMO) and the United Nations Environment Programme (UNEP), and later endorsed by the United Nations General Assembly through Resolution 43/53. Membership of the IPCC is open to all members of the WMO and UNEP. The IPCC produces reports that support the United Nations Framework Convention on Climate Change (UNFCCC), which is the main international treaty on climate change. The ultimate objective of the UNFCCC is to \"stabilize greenhouse gas concentrations in the atmosphere at a level that would prevent dangerous anthropogenic [i.e., human-induced] interference with the climate system\". IPCC reports cover \"the scientific, technical and socio-economic information relevant to understanding the scientific basis of risk of human-induced climate change, its potential impacts and options for adaptation and mitigation.\"\n",
      "\t\tWhat organization is the IPCC a part of?\n",
      "\t\t\t[{'text': 'the United Nations', 'answer_start': 114}, {'text': 'the United Nations', 'answer_start': 114}, {'text': 'the United Nations', 'answer_start': 114}]\n",
      "\t\tWhat UN organizations established the IPCC?\n",
      "\t\t\t[{'text': 'the World Meteorological Organization (WMO) and the United Nations Environment Programme (UNEP)', 'answer_start': 249}, {'text': 'World Meteorological Organization (WMO) and the United Nations Environment Programme (UNEP),', 'answer_start': 253}, {'text': 'the World Meteorological Organization (WMO) and the United Nations Environment Programme (UNEP)', 'answer_start': 249}]\n",
      "Title: Prime_number\n",
      "\tA prime number (or a prime) is a natural number greater than 1 that has no positive divisors other than 1 and itself. A natural number greater than 1 that is not a prime number is called a composite number. For example, 5 is prime because 1 and 5 are its only positive integer factors, whereas 6 is composite because it has the divisors 2 and 3 in addition to 1 and 6. The fundamental theorem of arithmetic establishes the central role of primes in number theory: any integer greater than 1 can be expressed as a product of primes that is unique up to ordering. The uniqueness in this theorem requires excluding 1 as a prime because one can include arbitrarily many instances of 1 in any factorization, e.g., 3, 1 · 3, 1 · 1 · 3, etc. are all valid factorizations of 3.\n",
      "\t\tWhat is the only divisor besides 1 that a prime number can have?\n",
      "\t\t\t[{'text': 'itself', 'answer_start': 110}, {'text': 'itself', 'answer_start': 110}, {'text': 'itself', 'answer_start': 110}, {'text': 'itself', 'answer_start': 110}, {'text': 'itself', 'answer_start': 110}]\n",
      "\t\tWhat are numbers greater than 1 that can be divided by 3 or more numbers called?\n",
      "\t\t\t[{'text': 'composite number', 'answer_start': 189}, {'text': 'composite number', 'answer_start': 189}, {'text': 'composite number', 'answer_start': 189}, {'text': 'primes', 'answer_start': 439}]\n",
      "Title: Rhine\n",
      "\tThe Rhine (Romansh: Rein, German: Rhein, French: le Rhin, Dutch: Rijn) is a European river that begins in the Swiss canton of Graubünden in the southeastern Swiss Alps, forms part of the Swiss-Austrian, Swiss-Liechtenstein border, Swiss-German and then the Franco-German border, then flows through the Rhineland and eventually empties into the North Sea in the Netherlands. The biggest city on the river Rhine is Cologne, Germany with a population of more than 1,050,000 people. It is the second-longest river in Central and Western Europe (after the Danube), at about 1,230 km (760 mi),[note 2][note 1] with an average discharge of about 2,900 m3/s (100,000 cu ft/s).\n",
      "\t\tWhere does the Rhine empty?\n",
      "\t\t\t[{'text': 'North Sea', 'answer_start': 344}, {'text': 'the North Sea in the Netherlands', 'answer_start': 340}, {'text': 'North Sea', 'answer_start': 344}, {'text': 'North Sea', 'answer_start': 344}]\n",
      "\t\tWhat is the largest city the Rhine runs through? \n",
      "\t\t\t[{'text': 'Cologne, Germany', 'answer_start': 413}, {'text': 'Cologne, Germany', 'answer_start': 413}, {'text': 'Cologne', 'answer_start': 413}]\n",
      "Title: Scottish_Parliament\n",
      "\tFollowing a referendum in 1997, in which the Scottish electorate voted for devolution, the current Parliament was convened by the Scotland Act 1998, which sets out its powers as a devolved legislature. The Act delineates the legislative competence of the Parliament – the areas in which it can make laws – by explicitly specifying powers that are \"reserved\" to the Parliament of the United Kingdom. The Scottish Parliament has the power to legislate in all areas that are not explicitly reserved to Westminster. The British Parliament retains the ability to amend the terms of reference of the Scottish Parliament, and can extend or reduce the areas in which it can make laws. The first meeting of the new Parliament took place on 12 May 1999.\n",
      "\t\tWhen was the current parliament of Scotland convened?\n",
      "\t\t\t[{'text': 'Following a referendum in 1997', 'answer_start': 0}, {'text': '1998', 'answer_start': 143}, {'text': '1998', 'answer_start': 143}]\n",
      "\t\tWhat act set out the Parliament's powers as a devolved legislature?\n",
      "\t\t\t[{'text': 'Scotland Act 1998', 'answer_start': 130}, {'text': 'Scotland Act 1998', 'answer_start': 130}, {'text': 'Scotland Act', 'answer_start': 130}]\n",
      "Title: Islamism\n",
      "\tIslamism, also known as Political Islam (Arabic: إسلام سياسي‎ islām siyāsī), is an Islamic revival movement often characterized by moral conservatism, literalism, and the attempt \"to implement Islamic values in all spheres of life.\" Islamism favors the reordering of government and society in accordance with the Shari'a. The different Islamist movements have been described as \"oscillating between two poles\": at one end is a strategy of Islamization of society through state power seized by revolution or invasion; at the other \"reformist\" pole Islamists work to Islamize society gradually \"from the bottom up\". The movements have \"arguably altered the Middle East more than any trend since the modern states gained independence\", redefining \"politics and even borders\" according to one journalist (Robin Wright).\n",
      "\t\tWhat is an Islamic revival movement?\n",
      "\t\t\t[{'text': 'Islamism', 'answer_start': 0}, {'text': 'Islamism', 'answer_start': 0}, {'text': 'Islamism', 'answer_start': 0}]\n",
      "\t\tWhat aspects of life does Islamism seek to integrate itself into?\n",
      "\t\t\t[{'text': 'all spheres of life.', 'answer_start': 211}, {'text': 'all spheres of life', 'answer_start': 211}, {'text': 'all spheres', 'answer_start': 211}]\n",
      "Title: Imperialism\n",
      "\tImperialism is a type of advocacy of empire. Its name originated from the Latin word \"imperium\", which means to rule over large territories. Imperialism is \"a policy of extending a country's power and influence through colonization, use of military force, or other means\". Imperialism has greatly shaped the contemporary world. It has also allowed for the rapid spread of technologies and ideas. The term imperialism has been applied to Western (and Japanese) political and economic dominance especially in Asia and Africa in the 19th and 20th centuries. Its precise meaning continues to be debated by scholars. Some writers, such as Edward Said, use the term more broadly to describe any system of domination and subordination organised with an imperial center and a periphery.\n",
      "\t\tThe word imperialism has it's origins in which ancient language? \n",
      "\t\t\t[{'text': 'Latin', 'answer_start': 74}, {'text': 'Latin', 'answer_start': 74}, {'text': 'Latin', 'answer_start': 74}, {'text': 'Latin', 'answer_start': 74}, {'text': 'Latin', 'answer_start': 74}]\n",
      "\t\tBy what means is imperialism usually administered?\n",
      "\t\t\t[{'text': 'military force', 'answer_start': 240}, {'text': 'colonization, use of military force, or other means', 'answer_start': 219}, {'text': 'colonization, use of military force, or other means', 'answer_start': 219}, {'text': 'colonization, use of military force, or other', 'answer_start': 219}, {'text': 'colonization', 'answer_start': 219}]\n",
      "Title: Warsaw\n",
      "\tWarsaw (Polish: Warszawa [varˈʂava] ( listen); see also other names) is the capital and largest city of Poland. It stands on the Vistula River in east-central Poland, roughly 260 kilometres (160 mi) from the Baltic Sea and 300 kilometres (190 mi) from the Carpathian Mountains. Its population is estimated at 1.740 million residents within a greater metropolitan area of 2.666 million residents, which makes Warsaw the 9th most-populous capital city in the European Union. The city limits cover 516.9 square kilometres (199.6 sq mi), while the metropolitan area covers 6,100.43 square kilometres (2,355.39 sq mi).\n",
      "\t\tWhat is the largest city of Poland?\n",
      "\t\t\t[{'text': 'Warsaw', 'answer_start': 0}, {'text': 'Warsaw', 'answer_start': 0}, {'text': 'Warsaw', 'answer_start': 0}]\n",
      "\t\tOn what river does Warsaw stand?\n",
      "\t\t\t[{'text': 'Vistula', 'answer_start': 129}, {'text': 'Vistula River', 'answer_start': 129}, {'text': 'Vistula', 'answer_start': 129}]\n",
      "Title: French_and_Indian_War\n",
      "\tThe French and Indian War (1754–1763) was the North American theater of the worldwide Seven Years' War. The war was fought between the colonies of British America and New France, with both sides supported by military units from their parent countries of Great Britain and France, as well as Native American allies. At the start of the war, the French North American colonies had a population of roughly 60,000 European settlers, compared with 2 million in the British North American colonies. The outnumbered French particularly depended on the Indians. Long in conflict, the metropole nations declared war on each other in 1756, escalating the war from a regional affair into an intercontinental conflict.\n",
      "\t\tWhen was the French and Indian War?\n",
      "\t\t\t[{'text': '1754–1763', 'answer_start': 27}, {'text': '1754–1763', 'answer_start': 27}, {'text': '1754–1763', 'answer_start': 27}, {'text': '1754–1763', 'answer_start': 27}, {'text': '1754–1763', 'answer_start': 27}]\n",
      "\t\tWho fought in the French and Indian war?\n",
      "\t\t\t[{'text': 'colonies of British America and New France', 'answer_start': 135}, {'text': 'colonies of British America and New France', 'answer_start': 135}, {'text': 'British America and New France', 'answer_start': 147}, {'text': 'British America and New France', 'answer_start': 147}, {'text': 'the colonies of British America and New France', 'answer_start': 131}]\n",
      "Title: Force\n",
      "\tPhilosophers in antiquity used the concept of force in the study of stationary and moving objects and simple machines, but thinkers such as Aristotle and Archimedes retained fundamental errors in understanding force. In part this was due to an incomplete understanding of the sometimes non-obvious force of friction, and a consequently inadequate view of the nature of natural motion. A fundamental error was the belief that a force is required to maintain motion, even at a constant velocity. Most of the previous misunderstandings about motion and force were eventually corrected by Galileo Galilei and Sir Isaac Newton. With his mathematical insight, Sir Isaac Newton formulated laws of motion that were not improved-on for nearly three hundred years. By the early 20th century, Einstein developed a theory of relativity that correctly predicted the action of forces on objects with increasing momenta near the speed of light, and also provided insight into the forces produced by gravitation and inertia.\n",
      "\t\tWhat concept did philosophers in antiquity use to study simple machines?\n",
      "\t\t\t[{'text': 'force', 'answer_start': 46}, {'text': 'force', 'answer_start': 46}, {'text': 'the concept of force', 'answer_start': 31}, {'text': 'the concept of force', 'answer_start': 31}, {'text': 'force', 'answer_start': 46}, {'text': 'force', 'answer_start': 46}]\n",
      "\t\tWhat was the belief that maintaining motion required force?\n",
      "\t\t\t[{'text': 'fundamental error', 'answer_start': 387}, {'text': 'A fundamental error', 'answer_start': 385}, {'text': 'A fundamental error', 'answer_start': 385}, {'text': 'A fundamental error', 'answer_start': 385}, {'text': 'A fundamental error', 'answer_start': 385}, {'text': 'A fundamental error', 'answer_start': 385}]\n"
     ]
    }
   ],
   "source": [
    "import json\n",
    "\n",
    "with open(filePathDev) as f:\n",
    "    squadJson = json.load(f)\n",
    "\n",
    "for subject in squadJson['data']:\n",
    "    print(\"Title: {0}\".format(subject['title']))\n",
    "    for paragraph in subject['paragraphs'][:1]:\n",
    "        print(\"\\t{0}\".format(paragraph['context']))\n",
    "        for qa in paragraph['qas'][:2]:\n",
    "            print(\"\\t\\t{0}\".format(qa['question']))\n",
    "            if qa['is_impossible']:\n",
    "                print(\"\\t\\t\\t{0}\".format(qa['plausible_answers']))\n",
    "            else:\n",
    "                print(\"\\t\\t\\t{0}\".format(qa['answers']))\n"
   ]
  },
  {
   "cell_type": "markdown",
   "metadata": {
    "colab_type": "text",
    "id": "RM58qpP-OJvG"
   },
   "source": [
    "## SQuAD as Custom Dataset\n",
    "\n",
    "https://github.com/kamalkraj/BERT-SQuAD/blob/7a4bef22a85b4b2c04d61e0a998881797280ec25/training/utils_squad.py#L177"
   ]
  },
  {
   "cell_type": "code",
   "execution_count": null,
   "metadata": {
    "colab": {},
    "colab_type": "code",
    "id": "8H5NV-lmUdUg"
   },
   "outputs": [],
   "source": [
    "# for subject in squadJson['data']:\n",
    "#     print(\"Title: {0}\".format(subject['title']))\n",
    "#     for paragraph in subject['paragraphs'][:1]:\n",
    "#         print(\"\\t{0}\".format(paragraph['context']))\n",
    "#         for qa in paragraph['qas'][:2]:\n",
    "#             print(\"\\t\\t{0}\".format(qa['question']))\n",
    "#             if qa['is_impossible']:\n",
    "#                 print(\"\\t\\t\\t{0}\".format(qa['plausible_answers']))\n",
    "#             else:\n",
    "#                 print(\"\\t\\t\\t{0}\".format(qa['answers']))\n",
    "# !pip install anytree\n",
    "from anytree.importer import JsonImporter\n",
    "from anytree import RenderTree\n",
    "\n",
    "with open(filePathDev) as f:\n",
    "#     squadJson = json.load(f)\n",
    "    ji = JsonImporter()\n",
    "    squadTree = ji.read(f)\n",
    "    # with JsonImporter() as ji:\n",
    "    #     squadTree = ji.read(f)\n",
    "\n",
    "# print(RenderTree(squadTree))\n",
    "\n"
   ]
  },
  {
   "cell_type": "code",
   "execution_count": null,
   "metadata": {
    "colab": {
     "base_uri": "https://localhost:8080/",
     "height": 35
    },
    "colab_type": "code",
    "executionInfo": {
     "elapsed": 1051,
     "status": "ok",
     "timestamp": 1583490309213,
     "user": {
      "displayName": "David Miller",
      "photoUrl": "https://lh3.googleusercontent.com/a-/AOh14Gj1qZ8xuBiIVbfffLNlgsgzjOy97Y5rgVjZo7Kp2A=s64",
      "userId": "13456558196145845049"
     },
     "user_tz": 0
    },
    "id": "bDYImTWPXBaE",
    "outputId": "e09480b2-b85d-4f64-f798-5c65e5016292"
   },
   "outputs": [
    {
     "data": {
      "text/plain": [
       "dict_keys(['version', 'data'])"
      ]
     },
     "execution_count": 32,
     "metadata": {
      "tags": []
     },
     "output_type": "execute_result"
    }
   ],
   "source": [
    "squadJson.keys()"
   ]
  },
  {
   "cell_type": "code",
   "execution_count": null,
   "metadata": {
    "colab": {},
    "colab_type": "code",
    "id": "sZZdFvv1OOEq"
   },
   "outputs": [],
   "source": [
    "from torchtext.data import Dataset\n",
    "import numpy as np\n",
    "from IPython.core.debugger import set_trace\n",
    "import anytree\n",
    "\n",
    "class QADataset(Dataset)\n",
    "    def __init__(filePath):\n",
    "        with open(filePath,fieldDictionary) as f:\n",
    "            self.dataset = json.load(f)\n",
    "        self.fieldDictionary=fieldDictionary\n",
    "\n",
    "        fieldAddresses=[address.split('.') for address in fieldDictionary]\n",
    "        longestAddress = np.argmax([len(address) in fieldAddresses])\n",
    "        set_trace()\n",
    "\n",
    "        for i in\n",
    "        self.dataset[fieldAddresses[longestAddress]]\n",
    "\n",
    "\n",
    "        self.examples=[]\n",
    "\n",
    "        for subject in self.dataset['data']:\n",
    "            print(\"Title: {0}\".format(subject['title']))\n",
    "            for p in subject['paragraphs']:\n",
    "                print(\"\\t{0}\".format(p['context']))\n",
    "\n",
    "\n",
    "\n",
    "\n",
    "class SQuADDataset(Dataset)\n",
    "    def __init__(filePath):\n",
    "        super(QADataset(filePath,\n",
    "                        fieldDictionary = {\n",
    "                                                #'version': ('version', TEXT),\n",
    "                                                #'data': ('data', TEXT),\n",
    "                                                'data.paragraphs.context': ('context', TEXT),\n",
    "                                                'data.paragraphs.qas.question': ('question', TEXT),\n",
    "                                                'data.paragraphs.qas.answers.text': ('answer', TEXT)\n",
    "                                        }))\n",
    "\n",
    "        for subject in self.dataset['data']:\n",
    "            print(\"Title: {0}\".format(subject['title']))\n",
    "            for p in subject['paragraphs']:\n",
    "                print(\"\\t{0}\".format(p['context']))\n",
    "                for qa in paragraph['qas'][:2]:\n",
    "                    print(\"\\t\\t{0}\".format(qa['question']))\n",
    "                    if qa['is_impossible']:\n",
    "                        print(\"\\t\\t\\t{0}\".format(qa['plausible_answers']))\n",
    "                    else:\n",
    "                        print(\"\\t\\t\\t{0}\".format(qa['answers']))\n",
    "\n"
   ]
  },
  {
   "cell_type": "markdown",
   "metadata": {
    "colab_type": "text",
    "id": "_c3SysWuOGMR"
   },
   "source": [
    "## SQuAD as Tabular Dataset"
   ]
  },
  {
   "cell_type": "code",
   "execution_count": null,
   "metadata": {
    "colab": {
     "base_uri": "https://localhost:8080/",
     "height": 388
    },
    "colab_type": "code",
    "executionInfo": {
     "elapsed": 652,
     "status": "error",
     "timestamp": 1583487255601,
     "user": {
      "displayName": "David Miller",
      "photoUrl": "https://lh3.googleusercontent.com/a-/AOh14Gj1qZ8xuBiIVbfffLNlgsgzjOy97Y5rgVjZo7Kp2A=s64",
      "userId": "13456558196145845049"
     },
     "user_tz": 0
    },
    "id": "JfGDpHy46thJ",
    "outputId": "f9cfe0a2-02fd-4ef8-9848-7900984f1a75"
   },
   "outputs": [
    {
     "ename": "ValueError",
     "evalue": "ignored",
     "output_type": "error",
     "traceback": [
      "\u001b[0;31m---------------------------------------------------------------------------\u001b[0m",
      "\u001b[0;31mValueError\u001b[0m                                Traceback (most recent call last)",
      "\u001b[0;32m<ipython-input-13-51f867cb73ab>\u001b[0m in \u001b[0;36m<module>\u001b[0;34m()\u001b[0m\n\u001b[1;32m     19\u001b[0m                                 \u001b[0;31m#  validation=filePathDev,\u001b[0m\u001b[0;34m\u001b[0m\u001b[0;34m\u001b[0m\u001b[0;34m\u001b[0m\u001b[0m\n\u001b[1;32m     20\u001b[0m                                  \u001b[0mformat\u001b[0m\u001b[0;34m=\u001b[0m\u001b[0;34m'json'\u001b[0m\u001b[0;34m,\u001b[0m\u001b[0;34m\u001b[0m\u001b[0;34m\u001b[0m\u001b[0m\n\u001b[0;32m---> 21\u001b[0;31m                                  fields=squadFieldMetadata)\n\u001b[0m\u001b[1;32m     22\u001b[0m \u001b[0;34m\u001b[0m\u001b[0m\n\u001b[1;32m     23\u001b[0m \u001b[0msquadTrain\u001b[0m\u001b[0;34m.\u001b[0m\u001b[0mexamples\u001b[0m\u001b[0;34m[\u001b[0m\u001b[0;36m0\u001b[0m\u001b[0;34m]\u001b[0m\u001b[0;34m.\u001b[0m\u001b[0mdata\u001b[0m\u001b[0;34m[\u001b[0m\u001b[0;36m0\u001b[0m\u001b[0;34m]\u001b[0m\u001b[0;34m\u001b[0m\u001b[0;34m\u001b[0m\u001b[0m\n",
      "\u001b[0;32m/usr/local/lib/python3.6/dist-packages/torchtext/data/dataset.py\u001b[0m in \u001b[0;36m__init__\u001b[0;34m(self, path, format, fields, skip_header, csv_reader_params, **kwargs)\u001b[0m\n\u001b[1;32m    269\u001b[0m                 \u001b[0mnext\u001b[0m\u001b[0;34m(\u001b[0m\u001b[0mreader\u001b[0m\u001b[0;34m)\u001b[0m\u001b[0;34m\u001b[0m\u001b[0;34m\u001b[0m\u001b[0m\n\u001b[1;32m    270\u001b[0m \u001b[0;34m\u001b[0m\u001b[0m\n\u001b[0;32m--> 271\u001b[0;31m             \u001b[0mexamples\u001b[0m \u001b[0;34m=\u001b[0m \u001b[0;34m[\u001b[0m\u001b[0mmake_example\u001b[0m\u001b[0;34m(\u001b[0m\u001b[0mline\u001b[0m\u001b[0;34m,\u001b[0m \u001b[0mfields\u001b[0m\u001b[0;34m)\u001b[0m \u001b[0;32mfor\u001b[0m \u001b[0mline\u001b[0m \u001b[0;32min\u001b[0m \u001b[0mreader\u001b[0m\u001b[0;34m]\u001b[0m\u001b[0;34m\u001b[0m\u001b[0;34m\u001b[0m\u001b[0m\n\u001b[0m\u001b[1;32m    272\u001b[0m \u001b[0;34m\u001b[0m\u001b[0m\n\u001b[1;32m    273\u001b[0m         \u001b[0;32mif\u001b[0m \u001b[0misinstance\u001b[0m\u001b[0;34m(\u001b[0m\u001b[0mfields\u001b[0m\u001b[0;34m,\u001b[0m \u001b[0mdict\u001b[0m\u001b[0;34m)\u001b[0m\u001b[0;34m:\u001b[0m\u001b[0;34m\u001b[0m\u001b[0;34m\u001b[0m\u001b[0m\n",
      "\u001b[0;32m/usr/local/lib/python3.6/dist-packages/torchtext/data/dataset.py\u001b[0m in \u001b[0;36m<listcomp>\u001b[0;34m(.0)\u001b[0m\n\u001b[1;32m    269\u001b[0m                 \u001b[0mnext\u001b[0m\u001b[0;34m(\u001b[0m\u001b[0mreader\u001b[0m\u001b[0;34m)\u001b[0m\u001b[0;34m\u001b[0m\u001b[0;34m\u001b[0m\u001b[0m\n\u001b[1;32m    270\u001b[0m \u001b[0;34m\u001b[0m\u001b[0m\n\u001b[0;32m--> 271\u001b[0;31m             \u001b[0mexamples\u001b[0m \u001b[0;34m=\u001b[0m \u001b[0;34m[\u001b[0m\u001b[0mmake_example\u001b[0m\u001b[0;34m(\u001b[0m\u001b[0mline\u001b[0m\u001b[0;34m,\u001b[0m \u001b[0mfields\u001b[0m\u001b[0;34m)\u001b[0m \u001b[0;32mfor\u001b[0m \u001b[0mline\u001b[0m \u001b[0;32min\u001b[0m \u001b[0mreader\u001b[0m\u001b[0;34m]\u001b[0m\u001b[0;34m\u001b[0m\u001b[0;34m\u001b[0m\u001b[0m\n\u001b[0m\u001b[1;32m    272\u001b[0m \u001b[0;34m\u001b[0m\u001b[0m\n\u001b[1;32m    273\u001b[0m         \u001b[0;32mif\u001b[0m \u001b[0misinstance\u001b[0m\u001b[0;34m(\u001b[0m\u001b[0mfields\u001b[0m\u001b[0;34m,\u001b[0m \u001b[0mdict\u001b[0m\u001b[0;34m)\u001b[0m\u001b[0;34m:\u001b[0m\u001b[0;34m\u001b[0m\u001b[0;34m\u001b[0m\u001b[0m\n",
      "\u001b[0;32m/usr/local/lib/python3.6/dist-packages/torchtext/data/example.py\u001b[0m in \u001b[0;36mfromJSON\u001b[0;34m(cls, data, fields)\u001b[0m\n\u001b[1;32m     12\u001b[0m     \u001b[0;34m@\u001b[0m\u001b[0mclassmethod\u001b[0m\u001b[0;34m\u001b[0m\u001b[0;34m\u001b[0m\u001b[0m\n\u001b[1;32m     13\u001b[0m     \u001b[0;32mdef\u001b[0m \u001b[0mfromJSON\u001b[0m\u001b[0;34m(\u001b[0m\u001b[0mcls\u001b[0m\u001b[0;34m,\u001b[0m \u001b[0mdata\u001b[0m\u001b[0;34m,\u001b[0m \u001b[0mfields\u001b[0m\u001b[0;34m)\u001b[0m\u001b[0;34m:\u001b[0m\u001b[0;34m\u001b[0m\u001b[0;34m\u001b[0m\u001b[0m\n\u001b[0;32m---> 14\u001b[0;31m         \u001b[0;32mreturn\u001b[0m \u001b[0mcls\u001b[0m\u001b[0;34m.\u001b[0m\u001b[0mfromdict\u001b[0m\u001b[0;34m(\u001b[0m\u001b[0mjson\u001b[0m\u001b[0;34m.\u001b[0m\u001b[0mloads\u001b[0m\u001b[0;34m(\u001b[0m\u001b[0mdata\u001b[0m\u001b[0;34m)\u001b[0m\u001b[0;34m,\u001b[0m \u001b[0mfields\u001b[0m\u001b[0;34m)\u001b[0m\u001b[0;34m\u001b[0m\u001b[0;34m\u001b[0m\u001b[0m\n\u001b[0m\u001b[1;32m     15\u001b[0m \u001b[0;34m\u001b[0m\u001b[0m\n\u001b[1;32m     16\u001b[0m     \u001b[0;34m@\u001b[0m\u001b[0mclassmethod\u001b[0m\u001b[0;34m\u001b[0m\u001b[0;34m\u001b[0m\u001b[0m\n",
      "\u001b[0;32m/usr/local/lib/python3.6/dist-packages/torchtext/data/example.py\u001b[0m in \u001b[0;36mfromdict\u001b[0;34m(cls, data, fields)\u001b[0m\n\u001b[1;32m     20\u001b[0m             \u001b[0;32mif\u001b[0m \u001b[0mkey\u001b[0m \u001b[0;32mnot\u001b[0m \u001b[0;32min\u001b[0m \u001b[0mdata\u001b[0m\u001b[0;34m:\u001b[0m\u001b[0;34m\u001b[0m\u001b[0;34m\u001b[0m\u001b[0m\n\u001b[1;32m     21\u001b[0m                 raise ValueError(\"Specified key {} was not found in \"\n\u001b[0;32m---> 22\u001b[0;31m                                  \"the input data\".format(key))\n\u001b[0m\u001b[1;32m     23\u001b[0m             \u001b[0;32mif\u001b[0m \u001b[0mvals\u001b[0m \u001b[0;32mis\u001b[0m \u001b[0;32mnot\u001b[0m \u001b[0;32mNone\u001b[0m\u001b[0;34m:\u001b[0m\u001b[0;34m\u001b[0m\u001b[0;34m\u001b[0m\u001b[0m\n\u001b[1;32m     24\u001b[0m                 \u001b[0;32mif\u001b[0m \u001b[0;32mnot\u001b[0m \u001b[0misinstance\u001b[0m\u001b[0;34m(\u001b[0m\u001b[0mvals\u001b[0m\u001b[0;34m,\u001b[0m \u001b[0mlist\u001b[0m\u001b[0;34m)\u001b[0m\u001b[0;34m:\u001b[0m\u001b[0;34m\u001b[0m\u001b[0;34m\u001b[0m\u001b[0m\n",
      "\u001b[0;31mValueError\u001b[0m: Specified key paragraphs was not found in the input data"
     ]
    }
   ],
   "source": [
    "TEXT = data.Field()\n",
    "\n",
    "squadFields=[('context', TEXT),\n",
    "             ('question', TEXT),\n",
    "             ('answer', TEXT)]\n",
    "\n",
    "squadFieldMetadata = {\n",
    "                        'version': ('version', TEXT),\n",
    "                        'data': ('data', TEXT),\n",
    "                        'paragraphs': ('paragraphs', TEXT)\n",
    "                        # 'data.paragraphs.context': ('context', data.Field()),\n",
    "                        # 'data.paragraphs.qas.question': ('question', data.Field()),\n",
    "                        # 'data.paragraphs.qas.answers.text': ('answer', data.Field())\n",
    "                    }\n",
    "\n",
    "# don't think squad counts as a tabular dataset\n",
    "squadTrain = data.TabularDataset(path=filePathDev,\n",
    "                                #  train=filePathTrain,\n",
    "                                #  validation=filePathDev, \n",
    "                                 format='json',\n",
    "                                 fields=squadFieldMetadata)\n",
    "\n",
    "squadTrain.examples[0].data[0]"
   ]
  },
  {
   "cell_type": "code",
   "execution_count": null,
   "metadata": {
    "colab": {},
    "colab_type": "code",
    "id": "8L5Kd_Od6fTN"
   },
   "outputs": [],
   "source": [
    "https://rajpurkar.github.io/SQuAD-explorer/dataset/train-v2.0.json"
   ]
  }
 ],
 "metadata": {
  "colab": {
   "authorship_tag": "ABX9TyNHpGqvo21YyWDempqcrwbZ",
   "collapsed_sections": [],
   "name": "Download SQuAD2.0.ipynb",
   "provenance": []
  },
  "kernelspec": {
   "display_name": "Python 3",
   "language": "python",
   "name": "python3"
  },
  "language_info": {
   "codemirror_mode": {
    "name": "ipython",
    "version": 3
   },
   "file_extension": ".py",
   "mimetype": "text/x-python",
   "name": "python",
   "nbconvert_exporter": "python",
   "pygments_lexer": "ipython3",
   "version": "3.8.5"
  }
 },
 "nbformat": 4,
 "nbformat_minor": 4
}
